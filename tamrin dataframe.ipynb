{
 "cells": [
  {
   "cell_type": "code",
   "execution_count": 1,
   "id": "3120d041",
   "metadata": {},
   "outputs": [],
   "source": [
    "import pandas as pd\n",
    "import numpy as np"
   ]
  },
  {
   "cell_type": "code",
   "execution_count": 2,
   "id": "33dca7d6",
   "metadata": {},
   "outputs": [
    {
     "data": {
      "text/plain": [
       "IR Iran    2166086\n",
       "Israel       20770\n",
       "dtype: int64"
      ]
     },
     "execution_count": 2,
     "metadata": {},
     "output_type": "execute_result"
    }
   ],
   "source": [
    "myseries1=pd.Series([2166086,20770], index=['IR Iran','Israel'])\n",
    "myseries1"
   ]
  },
  {
   "cell_type": "code",
   "execution_count": 3,
   "id": "635f2a2c",
   "metadata": {},
   "outputs": [
    {
     "data": {
      "text/plain": [
       "United States Of America     9372610\n",
       "The Russian Government      17098242\n",
       "dtype: int64"
      ]
     },
     "execution_count": 3,
     "metadata": {},
     "output_type": "execute_result"
    }
   ],
   "source": [
    "myseries2=pd.Series([9372610,17098242], index=['United States Of America','The Russian Government'])\n",
    "myseries2"
   ]
  },
  {
   "cell_type": "code",
   "execution_count": 4,
   "id": "9d0686f2",
   "metadata": {},
   "outputs": [
    {
     "data": {
      "text/plain": [
       "IR Iran                    NaN\n",
       "Israel                     NaN\n",
       "The Russian Government     NaN\n",
       "United States Of America   NaN\n",
       "dtype: float64"
      ]
     },
     "execution_count": 4,
     "metadata": {},
     "output_type": "execute_result"
    }
   ],
   "source": [
    "myseries1 + myseries2"
   ]
  },
  {
   "cell_type": "code",
   "execution_count": 5,
   "id": "53e2edc9",
   "metadata": {},
   "outputs": [
    {
     "data": {
      "text/plain": [
       "row1    2166086.00\n",
       "row2     830000.00\n",
       "row3    2166086.00\n",
       "row4     830000.00\n",
       "row5          1.43\n",
       "dtype: float64"
      ]
     },
     "execution_count": 5,
     "metadata": {},
     "output_type": "execute_result"
    }
   ],
   "source": [
    "iran = pd.Series([2166086,830000, 2166086,830000,1.43],index=['row1','row2','row3','row4','row5'])\n",
    "iran"
   ]
  },
  {
   "cell_type": "code",
   "execution_count": 6,
   "id": "b3f56314",
   "metadata": {},
   "outputs": [
    {
     "data": {
      "text/plain": [
       "array([2.166086e+06, 8.300000e+05, 2.166086e+06, 8.300000e+05,\n",
       "       1.430000e+00])"
      ]
     },
     "execution_count": 6,
     "metadata": {},
     "output_type": "execute_result"
    }
   ],
   "source": [
    "iran.values"
   ]
  },
  {
   "cell_type": "code",
   "execution_count": 7,
   "id": "44eb83d2",
   "metadata": {},
   "outputs": [
    {
     "data": {
      "text/plain": [
       "Index(['row1', 'row2', 'row3', 'row4', 'row5'], dtype='object')"
      ]
     },
     "execution_count": 7,
     "metadata": {},
     "output_type": "execute_result"
    }
   ],
   "source": [
    "iran.index"
   ]
  },
  {
   "cell_type": "code",
   "execution_count": 13,
   "id": "83dcf8ea",
   "metadata": {},
   "outputs": [
    {
     "data": {
      "text/html": [
       "<div>\n",
       "<style scoped>\n",
       "    .dataframe tbody tr th:only-of-type {\n",
       "        vertical-align: middle;\n",
       "    }\n",
       "\n",
       "    .dataframe tbody tr th {\n",
       "        vertical-align: top;\n",
       "    }\n",
       "\n",
       "    .dataframe thead th {\n",
       "        text-align: right;\n",
       "    }\n",
       "</style>\n",
       "<table border=\"1\" class=\"dataframe\">\n",
       "  <thead>\n",
       "    <tr style=\"text-align: right;\">\n",
       "      <th></th>\n",
       "      <th>land area(km^2)</th>\n",
       "      <th>land area(mi^2)</th>\n",
       "      <th>percentage of world landmass</th>\n",
       "    </tr>\n",
       "  </thead>\n",
       "  <tbody>\n",
       "    <tr>\n",
       "      <th>The Russian Government</th>\n",
       "      <td>17098242.0</td>\n",
       "      <td>6323142.0</td>\n",
       "      <td>11.00</td>\n",
       "    </tr>\n",
       "    <tr>\n",
       "      <th>IR Iran</th>\n",
       "      <td>2166086.0</td>\n",
       "      <td>830000.0</td>\n",
       "      <td>1.43</td>\n",
       "    </tr>\n",
       "    <tr>\n",
       "      <th>The Democratic Republic Of China</th>\n",
       "      <td>9706961.0</td>\n",
       "      <td>3624807.0</td>\n",
       "      <td>6.30</td>\n",
       "    </tr>\n",
       "    <tr>\n",
       "      <th>United States Of America</th>\n",
       "      <td>9147420.0</td>\n",
       "      <td>3531837.0</td>\n",
       "      <td>6.10</td>\n",
       "    </tr>\n",
       "  </tbody>\n",
       "</table>\n",
       "</div>"
      ],
      "text/plain": [
       "                                  land area(km^2)  land area(mi^2)  \\\n",
       "The Russian Government                 17098242.0        6323142.0   \n",
       "IR Iran                                 2166086.0         830000.0   \n",
       "The Democratic Republic Of China        9706961.0        3624807.0   \n",
       "United States Of America                9147420.0        3531837.0   \n",
       "\n",
       "                                  percentage of world landmass  \n",
       "The Russian Government                                   11.00  \n",
       "IR Iran                                                   1.43  \n",
       "The Democratic Republic Of China                          6.30  \n",
       "United States Of America                                  6.10  "
      ]
     },
     "execution_count": 13,
     "metadata": {},
     "output_type": "execute_result"
    }
   ],
   "source": [
    "pc = np.array([[17098242 ,6323142 ,11],[2166086 ,830000 ,1.43],[9706961 ,3624807 ,6.3],[9147420 ,3531837 ,6.1]])\n",
    "\n",
    "mydf = pd.DataFrame(pc, index=['The Russian Government' ,'IR Iran' ,'The Democratic Republic Of China','United States Of America'], columns=['land area(km^2)' ,'land area(mi^2)' ,'percentage of world landmass'])\n",
    "mydf"
   ]
  },
  {
   "cell_type": "code",
   "execution_count": 14,
   "id": "dddcaca9",
   "metadata": {},
   "outputs": [
    {
     "data": {
      "text/plain": [
       "Index(['The Russian Government', 'IR Iran', 'The Democratic Republic Of China',\n",
       "       'United States Of America'],\n",
       "      dtype='object')"
      ]
     },
     "execution_count": 14,
     "metadata": {},
     "output_type": "execute_result"
    }
   ],
   "source": [
    "mydf.index"
   ]
  },
  {
   "cell_type": "code",
   "execution_count": 15,
   "id": "6957a3c5",
   "metadata": {},
   "outputs": [
    {
     "data": {
      "text/plain": [
       "Index(['land area(km^2)', 'land area(mi^2)', 'percentage of world landmass'], dtype='object')"
      ]
     },
     "execution_count": 15,
     "metadata": {},
     "output_type": "execute_result"
    }
   ],
   "source": [
    "mydf.columns"
   ]
  },
  {
   "cell_type": "code",
   "execution_count": 16,
   "id": "bf03f775",
   "metadata": {},
   "outputs": [
    {
     "data": {
      "text/plain": [
       "array([[1.7098242e+07, 6.3231420e+06, 1.1000000e+01],\n",
       "       [2.1660860e+06, 8.3000000e+05, 1.4300000e+00],\n",
       "       [9.7069610e+06, 3.6248070e+06, 6.3000000e+00],\n",
       "       [9.1474200e+06, 3.5318370e+06, 6.1000000e+00]])"
      ]
     },
     "execution_count": 16,
     "metadata": {},
     "output_type": "execute_result"
    }
   ],
   "source": [
    "mydf.values"
   ]
  },
  {
   "cell_type": "code",
   "execution_count": null,
   "id": "7a6bf63f",
   "metadata": {},
   "outputs": [],
   "source": []
  }
 ],
 "metadata": {
  "kernelspec": {
   "display_name": "Python 3 (ipykernel)",
   "language": "python",
   "name": "python3"
  },
  "language_info": {
   "codemirror_mode": {
    "name": "ipython",
    "version": 3
   },
   "file_extension": ".py",
   "mimetype": "text/x-python",
   "name": "python",
   "nbconvert_exporter": "python",
   "pygments_lexer": "ipython3",
   "version": "3.9.13"
  }
 },
 "nbformat": 4,
 "nbformat_minor": 5
}
